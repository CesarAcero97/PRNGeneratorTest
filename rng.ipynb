{
 "cells": [
  {
   "cell_type": "code",
   "execution_count": 31,
   "metadata": {},
   "outputs": [],
   "source": [
    "# Importación de las bibliotecas necesarias\n",
    "from ipywidgets import widgets, interact, interactive\n",
    "from IPython.display import display\n",
    "import matplotlib.pyplot as plt\n",
    "from random import uniform, gauss"
   ]
  },
  {
   "cell_type": "code",
   "execution_count": 32,
   "metadata": {},
   "outputs": [],
   "source": [
    "# Generación de números pseudoaleatorios mediante Cuadrados Medios\n",
    "def cuadrados_medios(seed, n):\n",
    "    \"\"\"\n",
    "    Genera una lista de números pseudoaleatorios utilizando el método de cuadrados medios.\n",
    "\n",
    "    Parámetros:\n",
    "    seed (int): Valor semilla para el generador.\n",
    "    n (int): Número de elementos que se desean generar.\n",
    "\n",
    "    Retorna:\n",
    "    list: Lista con 'n' números pseudoaleatorios.\n",
    "    \"\"\"\n",
    "    x = seed\n",
    "    results = []\n",
    "    for _ in range(n):\n",
    "        x = x ** 2\n",
    "        x_str = str(x).zfill(8)  # Rellenar con ceros para asegurar que tenga 8 dígitos\n",
    "        x = int(x_str[2:6])\n",
    "        results.append(x / 10000)\n",
    "    return results"
   ]
  },
  {
   "cell_type": "code",
   "execution_count": 33,
   "metadata": {},
   "outputs": [],
   "source": [
    "# Generación de números pseudoaleatorios mediante método congruencial lineal.\n",
    "def congruencial_lineal(a, c, m, seed, n):\n",
    "    \"\"\"\n",
    "    Genera una lista de números pseudoaleatorios utilizando el método congruencial lineal.\n",
    "\n",
    "    Parámetros:\n",
    "    a, c, m (int): Constantes del método congruencial.\n",
    "    seed (int): Valor semilla para el generador.\n",
    "    n (int): Número de elementos que se desean generar.\n",
    "\n",
    "    Retorna:\n",
    "    list: Lista con 'n' números pseudoaleatorios.\n",
    "    \"\"\"\n",
    "    x = seed\n",
    "    results = []\n",
    "    for _ in range(n):\n",
    "        x = (a * x + c) % m\n",
    "        results.append(x / m)\n",
    "    return results"
   ]
  },
  {
   "cell_type": "code",
   "execution_count": 34,
   "metadata": {},
   "outputs": [],
   "source": [
    "# Generación de números pseudoaleatorios mediante Multiplicative Congruenciales\n",
    "def multiplicative_congruential(a, m, seed, n):\n",
    "    \"\"\"\n",
    "    Genera una lista de números pseudoaleatorios utilizando el método multiplicativo congruencial.\n",
    "    \n",
    "    Parámetros:\n",
    "    a (int): Multiplicador.\n",
    "    m (int): Módulo.\n",
    "    seed (int): Valor semilla para el generador.\n",
    "    n (int): Número de elementos que se desean generar.\n",
    "\n",
    "    Retorna:\n",
    "    list: Lista con 'n' números pseudoaleatorios.\n",
    "    \"\"\"\n",
    "    x = seed\n",
    "    results = []\n",
    "    for _ in range(n):\n",
    "        x = (a * x) % m\n",
    "        results.append(x / m)\n",
    "    return results"
   ]
  },
  {
   "cell_type": "code",
   "execution_count": 35,
   "metadata": {},
   "outputs": [],
   "source": [
    "# Generación de números con distribución uniforme\n",
    "def uniform_distribution(a, b, n):\n",
    "    \"\"\"\n",
    "    Genera una lista de 'n' números aleatorios con una distribución uniforme entre 'a' y 'b'.\n",
    "\n",
    "    Parámetros:\n",
    "    a, b (float): Rango para la distribución uniforme.\n",
    "    n (int): Número de elementos que se desean generar.\n",
    "\n",
    "    Retorna:\n",
    "    list: Lista con 'n' números aleatorios.\n",
    "    \"\"\"\n",
    "    return [uniform(a, b) for _ in range(n)]"
   ]
  },
  {
   "cell_type": "code",
   "execution_count": 36,
   "metadata": {},
   "outputs": [],
   "source": [
    "# Generación de números pseudoaleatorios con distribución normal (Box-Muller)\n",
    "def normal_distribution(mu, sigma, n):\n",
    "    \"\"\"\n",
    "    Genera una lista de 'n' números aleatorios con una distribución normal con media (mu) y desviación estándar (sigma) dadas.\n",
    "    \n",
    "    Parámetros:\n",
    "    mu (float): Media de la distribución normal.\n",
    "    sigma (float): Desviación estándar de la distribución normal.\n",
    "    n (int): Número de elementos que se desean generar.\n",
    "\n",
    "    Retorna:\n",
    "    list: Lista con 'n' números aleatorios con distribución normal.\n",
    "    \"\"\"\n",
    "    return [gauss(mu, sigma) for _ in range(n)]"
   ]
  },
  {
   "cell_type": "code",
   "execution_count": 37,
   "metadata": {},
   "outputs": [],
   "source": [
    "# Función para dibujar el histograma de los números generados\n",
    "def draw_graph(data):\n",
    "    \"\"\"\n",
    "    Dibuja un histograma de los números en 'data'.\n",
    "\n",
    "    Parámetros:\n",
    "    data (list): Lista de números para el histograma.\n",
    "    \"\"\"\n",
    "    plt.hist(data, bins=10, density=True, alpha=0.75, edgecolor=\"black\")\n",
    "    plt.title(\"Distribución de números generados\")\n",
    "    plt.xlabel(\"Número\")\n",
    "    plt.ylabel(\"Frecuencia\")\n",
    "    plt.show()"
   ]
  },
  {
   "cell_type": "code",
   "execution_count": 38,
   "metadata": {},
   "outputs": [],
   "source": [
    "# Crear un Textarea para mostrar los números generados\n",
    "output_area = widgets.Textarea(\n",
    "    value='',\n",
    "    placeholder='Los números generados aparecerán aquí...',\n",
    "    description='Números:',\n",
    "    layout=widgets.Layout(width='400px', height='200px'),\n",
    "    disabled=False\n",
    ")"
   ]
  },
  {
   "cell_type": "code",
   "execution_count": 39,
   "metadata": {},
   "outputs": [],
   "source": [
    "# Función principal para la generación de números\n",
    "def generate_numbers(method, seed, n):\n",
    "    \"\"\"\n",
    "    Genera números pseudoaleatorios basados en el método seleccionado y dibuja su histograma.\n",
    "\n",
    "    Parámetros:\n",
    "    method (str): Método de generación de números ('Cuadrados Medios', 'Congruenciales', 'Multiplicativos', 'Uniforme', 'Normal').\n",
    "    seed (int): Valor semilla para el generador.\n",
    "    n (int): Número de elementos que se desean generar.\n",
    "    \"\"\"\n",
    "    if seed <= 0 or n <= 0:\n",
    "        print(\"La semilla y el número de datos deben ser mayores que 0.\")\n",
    "        return\n",
    "\n",
    "    if method == \"Cuadrados Medios\":\n",
    "        data = cuadrados_medios(seed, n)\n",
    "    elif method == \"Congruencial Lineal\":\n",
    "        data = congruencial_lineal(1664525, 1013904223, 2**32, seed, n)\n",
    "    elif method == \"Congruencial Multiplicativo\":\n",
    "        data = multiplicative_congruential(1664525, 2**32, seed, n)\n",
    "    elif method == \"Distribución Uniforme\":\n",
    "        data = uniform_distribution(0, 1, n)\n",
    "    elif method == \"Distribución Normal\":\n",
    "        data = normal_distribution(0, 1, n)\n",
    "    \n",
    "    # Mostrar los números generados en el Textarea\n",
    "    output_area.value = ', '.join([str(x) for x in data])\n",
    "\n",
    "    # Dibujar el histograma\n",
    "    draw_graph(data)\n"
   ]
  },
  {
   "cell_type": "code",
   "execution_count": null,
   "metadata": {},
   "outputs": [],
   "source": [
    "# Crear un botón para exportar los números generados a un archivo .txt\n",
    "export_button = widgets.Button(\n",
    "    description=\"Exportar a .txt\",\n",
    "    button_style='',  # 'success', 'info', 'warning', 'danger' or ''\n",
    "    tooltip=\"Haz clic para exportar los números generados\",\n",
    "    icon='download'  # (FontAwesome icon)\n",
    ")"
   ]
  },
  {
   "cell_type": "code",
   "execution_count": 41,
   "metadata": {},
   "outputs": [],
   "source": [
    "def export_numbers_to_file(b):\n",
    "    \"\"\"\n",
    "    Exporta los números generados a un archivo .txt.\n",
    "    \"\"\"\n",
    "    if output_area.value.strip() == '':\n",
    "        print(\"No hay números generados para exportar.\")\n",
    "        return\n",
    "    \n",
    "    # Nombre del archivo y contenido\n",
    "    filename = \"numeros_generados.txt\"\n",
    "    with open(filename, \"w\") as f:\n",
    "        f.write(output_area.value)\n",
    "    \n",
    "    print(f\"Números exportados exitosamente a {filename}.\")"
   ]
  },
  {
   "cell_type": "code",
   "execution_count": 42,
   "metadata": {},
   "outputs": [],
   "source": [
    "# Vincular la función al botón\n",
    "export_button.on_click(export_numbers_to_file)"
   ]
  },
  {
   "cell_type": "code",
   "execution_count": 43,
   "metadata": {},
   "outputs": [],
   "source": [
    "# Interfaz gráfica utilizando widgets\n",
    "method_widget = widgets.Dropdown(\n",
    "    options=[\"Cuadrados Medios\", \"Congruencial Lineal\", \"Congruencial Multiplicativo\", \"Distribución Uniforme\", \"Distribución Normal\"],\n",
    "    description=\"Método:\"\n",
    ")\n",
    "\n",
    "seed_widget = widgets.IntText(value=1, description=\"Semilla:\", min=1)\n",
    "\n",
    "n_widget = widgets.IntText(value=100, description=\"Nº de datos:\", min=1)"
   ]
  },
  {
   "cell_type": "code",
   "execution_count": null,
   "metadata": {},
   "outputs": [],
   "source": [
    "# Usar interact() para los widgets interactivos\n",
    "interact(generate_numbers, method=method_widget, seed=seed_widget, n=n_widget)\n",
    "display(output_area, export_button)"
   ]
  }
 ],
 "metadata": {
  "kernelspec": {
   "display_name": ".venv",
   "language": "python",
   "name": "python3"
  },
  "language_info": {
   "codemirror_mode": {
    "name": "ipython",
    "version": 3
   },
   "file_extension": ".py",
   "mimetype": "text/x-python",
   "name": "python",
   "nbconvert_exporter": "python",
   "pygments_lexer": "ipython3",
   "version": "3.11.8"
  }
 },
 "nbformat": 4,
 "nbformat_minor": 2
}
