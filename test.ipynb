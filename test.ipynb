{
 "cells": [
  {
   "cell_type": "code",
   "execution_count": 1,
   "metadata": {},
   "outputs": [],
   "source": [
    "# Importar las bibliotecas necesarias\n",
    "from ipywidgets import widgets, interact, interactive, Textarea, Button, Output\n",
    "import matplotlib.pyplot as plt\n",
    "import numpy as np\n",
    "from scipy import stats"
   ]
  },
  {
   "cell_type": "code",
   "execution_count": 2,
   "metadata": {},
   "outputs": [],
   "source": [
    "# Prueba de media\n",
    "# Comprueba si la media de los datos está cerca de 0.5\n",
    "def media_test(data):\n",
    "    media = np.mean(data)\n",
    "    return abs(media - 0.5) < 0.1"
   ]
  },
  {
   "cell_type": "code",
   "execution_count": 3,
   "metadata": {},
   "outputs": [],
   "source": [
    "# Prueba de varianza\n",
    "# Comprueba si la varianza de los datos está entre 0.21 y 0.29\n",
    "def varianza_test(data):\n",
    "    varianza = np.var(data)\n",
    "    return 0.21 < varianza < 0.29"
   ]
  },
  {
   "cell_type": "code",
   "execution_count": 4,
   "metadata": {},
   "outputs": [],
   "source": [
    "# Prueba KS (Kolmogorov-Smirnov)\n",
    "# Comprueba si los datos siguen una distribución uniforme\n",
    "def ks_test(data):\n",
    "    D, p_value = stats.kstest(data, 'uniform')\n",
    "    return p_value > 0.05"
   ]
  },
  {
   "cell_type": "code",
   "execution_count": 5,
   "metadata": {},
   "outputs": [],
   "source": [
    "# Prueba Chi-cuadrado\n",
    "# Comprueba si los datos se distribuyen uniformemente entre 10 intervalos\n",
    "def chi2_test(data, bins=10):\n",
    "    observed_freq, _, _ = plt.hist(data, bins=bins)\n",
    "    plt.clf()  # Limpiar el gráfico\n",
    "    expected_freq = [len(data) / bins] * bins\n",
    "    chi2, p_value = stats.chisquare(observed_freq, expected_freq)\n",
    "    return p_value > 0.05"
   ]
  },
  {
   "cell_type": "code",
   "execution_count": 6,
   "metadata": {},
   "outputs": [],
   "source": [
    "# Prueba de Póker\n",
    "# Comprueba si hay suficientes números con dígitos repetidos\n",
    "def poker_test(data):\n",
    "    count_repeated = 0\n",
    "    for num in data:\n",
    "        str_num = str(num)[2:6]  # Tomamos 4 decimales\n",
    "        if len(set(str_num)) < len(str_num):\n",
    "            count_repeated += 1\n",
    "    ratio = count_repeated / len(data)\n",
    "    return 0.1 < ratio < 0.9  # Este es un umbral de ejemplo, podría ajustarse"
   ]
  },
  {
   "cell_type": "code",
   "execution_count": 7,
   "metadata": {},
   "outputs": [],
   "source": [
    "# Función principal para realizar la prueba y generar el gráfico\n",
    "def test_numbers(test_name, text_area_content):\n",
    "    data = [float(x) for x in text_area_content.split(',') if x]\n",
    "    if not data:\n",
    "        print(\"Por favor, ingresa números separados por comas.\")\n",
    "        return\n",
    "\n",
    "    if test_name == 'Media':\n",
    "        result = media_test(data)\n",
    "    elif test_name == 'Varianza':\n",
    "        result = varianza_test(data)\n",
    "    elif test_name == 'KS':\n",
    "        result = ks_test(data)\n",
    "    elif test_name == 'Chi2':\n",
    "        result = chi2_test(data)\n",
    "    elif test_name == 'Póker':\n",
    "        result = poker_test(data)\n",
    "\n",
    "    plt.hist(data, bins=10, density=True, alpha=0.75, edgecolor=\"black\")\n",
    "    plt.title(f\"Distribución de números generados ({'Pasa' if result else 'No pasa'})\")\n",
    "    plt.xlabel(\"Número\")\n",
    "    plt.ylabel(\"Frecuencia\")\n",
    "    plt.show()"
   ]
  },
  {
   "cell_type": "code",
   "execution_count": 8,
   "metadata": {},
   "outputs": [],
   "source": [
    "# Widgets para la interfaz de usuario\n",
    "test_name_widget = widgets.Dropdown(\n",
    "    options=['Media', 'Varianza', 'KS', 'Chi2', 'Póker'],\n",
    "    description='Prueba:'\n",
    ")\n",
    "\n",
    "text_area_widget = Textarea(\n",
    "    value='',\n",
    "    placeholder='Ingresa números separados por comas',\n",
    "    description='Números:',\n",
    "    disabled=False\n",
    ")\n",
    "\n",
    "button_widget = Button(description=\"Realizar prueba\")\n",
    "out = Output()"
   ]
  },
  {
   "cell_type": "code",
   "execution_count": 9,
   "metadata": {},
   "outputs": [],
   "source": [
    "# Acción al hacer clic en el botón \"Realizar prueba\"\n",
    "def on_button_clicked(_):\n",
    "    with out:\n",
    "        out.clear_output()\n",
    "        test_numbers(test_name_widget.value, text_area_widget.value)\n",
    "\n",
    "button_widget.on_click(on_button_clicked)"
   ]
  },
  {
   "cell_type": "code",
   "execution_count": null,
   "metadata": {},
   "outputs": [],
   "source": [
    "# Generar la interfaz de usuario\n",
    "interact(test_numbers, test_name=test_name_widget, text_area_content=widgets.fixed(''))\n",
    "display(text_area_widget)\n",
    "display(button_widget)\n",
    "display(out)"
   ]
  }
 ],
 "metadata": {
  "kernelspec": {
   "display_name": ".venv",
   "language": "python",
   "name": "python3"
  },
  "language_info": {
   "codemirror_mode": {
    "name": "ipython",
    "version": 3
   },
   "file_extension": ".py",
   "mimetype": "text/x-python",
   "name": "python",
   "nbconvert_exporter": "python",
   "pygments_lexer": "ipython3",
   "version": "3.11.8"
  }
 },
 "nbformat": 4,
 "nbformat_minor": 2
}
